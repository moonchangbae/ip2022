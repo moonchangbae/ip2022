{
  "nbformat": 4,
  "nbformat_minor": 0,
  "metadata": {
    "colab": {
      "provenance": []
    },
    "kernelspec": {
      "name": "python3",
      "display_name": "Python 3"
    },
    "language_info": {
      "name": "python"
    }
  },
  "cells": [
    {
      "cell_type": "code",
      "execution_count": 1,
      "metadata": {
        "id": "1GwcxhcOLQDE"
      },
      "outputs": [],
      "source": [
        "li=[3,6,2,7]"
      ]
    },
    {
      "cell_type": "code",
      "source": [
        "[elem*2 for elem in li]"
      ],
      "metadata": {
        "colab": {
          "base_uri": "https://localhost:8080/"
        },
        "id": "BVAG8eQELfff",
        "outputId": "58740f95-e16c-412b-831f-6147ef94fc04"
      },
      "execution_count": 2,
      "outputs": [
        {
          "output_type": "execute_result",
          "data": {
            "text/plain": [
              "[6, 12, 4, 14]"
            ]
          },
          "metadata": {},
          "execution_count": 2
        }
      ]
    },
    {
      "cell_type": "code",
      "source": [
        "li=[('a',1),('b',2),('c',7)]"
      ],
      "metadata": {
        "id": "wVkCL7NuLsa4"
      },
      "execution_count": 5,
      "outputs": []
    },
    {
      "cell_type": "code",
      "source": [
        "[n*3 for (x,n )in li]"
      ],
      "metadata": {
        "colab": {
          "base_uri": "https://localhost:8080/"
        },
        "id": "SYBby1LuL032",
        "outputId": "bff4eb39-aa14-4c89-ccab-f8901bd09162"
      },
      "execution_count": 6,
      "outputs": [
        {
          "output_type": "execute_result",
          "data": {
            "text/plain": [
              "[3, 6, 21]"
            ]
          },
          "metadata": {},
          "execution_count": 6
        }
      ]
    },
    {
      "cell_type": "code",
      "source": [
        "li=[3, 6, 2, 7, 1, 9]\n",
        "[elem*2 for elem in li if  elem>4]"
      ],
      "metadata": {
        "colab": {
          "base_uri": "https://localhost:8080/"
        },
        "id": "uye4yf1uL_OT",
        "outputId": "d328e1b4-b68a-4d82-f8f3-2716d0cea0c1"
      },
      "execution_count": 8,
      "outputs": [
        {
          "output_type": "execute_result",
          "data": {
            "text/plain": [
              "[12, 14, 18]"
            ]
          },
          "metadata": {},
          "execution_count": 8
        }
      ]
    },
    {
      "cell_type": "code",
      "source": [
        "li=[3, 2, 4, 1]\n",
        "[elem*2 for elem in\n",
        " [item+1 for item in li]]"
      ],
      "metadata": {
        "colab": {
          "base_uri": "https://localhost:8080/"
        },
        "id": "m5rMEaUBMhLP",
        "outputId": "bb601c07-a50d-418f-c387-f52257013e65"
      },
      "execution_count": 9,
      "outputs": [
        {
          "output_type": "execute_result",
          "data": {
            "text/plain": [
              "[8, 6, 10, 4]"
            ]
          },
          "metadata": {},
          "execution_count": 9
        }
      ]
    }
  ]
}