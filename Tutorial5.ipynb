{
  "nbformat": 4,
  "nbformat_minor": 0,
  "metadata": {
    "colab": {
      "provenance": []
    },
    "kernelspec": {
      "name": "python3",
      "display_name": "Python 3"
    },
    "language_info": {
      "name": "python"
    }
  },
  "cells": [
    {
      "cell_type": "code",
      "source": [
        "x=3"
      ],
      "metadata": {
        "id": "rsFxCGBuHtUC"
      },
      "execution_count": 16,
      "outputs": []
    },
    {
      "cell_type": "code",
      "source": [
        "if x==3:\n",
        "  print(\"x equals 3.\")\n",
        "elif x==2:\n",
        "  print(\"x equals 2.\")\n",
        "else:\n",
        "  print(\" x equals something else.\")\n",
        "  print(\"this is ourtside the 'if'\")"
      ],
      "metadata": {
        "colab": {
          "base_uri": "https://localhost:8080/"
        },
        "id": "EBFj3lp0HyG-",
        "outputId": "8e752c4b-fa6a-48e0-db25-a02e4b04bd8d"
      },
      "execution_count": 19,
      "outputs": [
        {
          "output_type": "stream",
          "name": "stdout",
          "text": [
            "x equals 3.\n"
          ]
        }
      ]
    },
    {
      "cell_type": "code",
      "execution_count": 11,
      "metadata": {
        "id": "objgfI4PGBW-"
      },
      "outputs": [],
      "source": [
        "x=3"
      ]
    },
    {
      "cell_type": "code",
      "source": [
        "while x<5:\n",
        "  print(x,\"still in the loop\")\n",
        "  x=x+1\n"
      ],
      "metadata": {
        "colab": {
          "base_uri": "https://localhost:8080/"
        },
        "id": "pgWsvPaOGVb7",
        "outputId": "3bc7193a-d2ad-40d1-cf05-c6b82635bf3e"
      },
      "execution_count": 12,
      "outputs": [
        {
          "output_type": "stream",
          "name": "stdout",
          "text": [
            "3 still in the loop\n",
            "4 still in the loop\n"
          ]
        }
      ]
    },
    {
      "cell_type": "code",
      "source": [
        "x=6"
      ],
      "metadata": {
        "id": "R8GyzhOsHbJo"
      },
      "execution_count": 13,
      "outputs": []
    },
    {
      "cell_type": "code",
      "source": [
        "while x<5:\n",
        "  print(x, \"strll int the loop\")"
      ],
      "metadata": {
        "id": "cVh6kdTRHcrt"
      },
      "execution_count": 14,
      "outputs": []
    },
    {
      "cell_type": "code",
      "source": [
        "number_of_players =3"
      ],
      "metadata": {
        "id": "LRC3dZ39IOd5"
      },
      "execution_count": 24,
      "outputs": []
    },
    {
      "cell_type": "code",
      "source": [
        "assert(number_of_players<5)\n"
      ],
      "metadata": {
        "id": "tfpgyMB7IUmZ"
      },
      "execution_count": 25,
      "outputs": []
    }
  ]
}